{
 "cells": [
  {
   "cell_type": "code",
   "execution_count": 1,
   "metadata": {
    "collapsed": true
   },
   "outputs": [],
   "source": [
    "import numpy as np\n",
    "import pandas as pd\n",
    "\n",
    "# Loading Data from Dataset\n",
    "data = pd.read_csv(\"LargeTrain.csv\")\n",
    "features =data.columns\n",
    "Y= data.pop('Class')\n",
    "X= data\n"
   ]
  },
  {
   "cell_type": "code",
   "execution_count": 2,
   "metadata": {
    "collapsed": true
   },
   "outputs": [],
   "source": [
    "# Loading SKlearn module \n",
    "from sklearn.ensemble import RandomForestClassifier\n",
    "from sklearn import preprocessing"
   ]
  },
  {
   "cell_type": "code",
   "execution_count": 4,
   "metadata": {
    "collapsed": false
   },
   "outputs": [
    {
     "data": {
      "text/plain": [
       "RandomForestClassifier(bootstrap=True, class_weight=None, criterion='gini',\n",
       "            max_depth=None, max_features=2, max_leaf_nodes=None,\n",
       "            min_impurity_split=1e-07, min_samples_leaf=1,\n",
       "            min_samples_split=2, min_weight_fraction_leaf=0.0,\n",
       "            n_estimators=300, n_jobs=1, oob_score=True, random_state=None,\n",
       "            verbose=0, warm_start=False)"
      ]
     },
     "execution_count": 4,
     "metadata": {},
     "output_type": "execute_result"
    }
   ],
   "source": [
    "# Create Random Forest Tree\n",
    "rf_model = RandomForestClassifier(n_estimators=300,\n",
    "                                  max_features=2,\n",
    "                                  oob_score=True)\n",
    "rf_model.fit(X, Y)"
   ]
  },
  {
   "cell_type": "code",
   "execution_count": 7,
   "metadata": {
    "collapsed": false
   },
   "outputs": [
    {
     "name": "stdout",
     "output_type": "stream",
     "text": [
      "[OOB accuracy]\n",
      "0.992178873758\n",
      "\n",
      "[Important Features]\n",
      "1. LCMapStringW (0.004019)\n",
      "2. TB_e1 (0.003115)\n",
      "3. extrn (0.002969)\n",
      "4. asm_commands_not (0.002960)\n",
      "5. TB_48 (0.002771)\n",
      "6. Img95 (0.002741)\n",
      "7. TB_f4 (0.002613)\n",
      "8. TB_d5 (0.002603)\n",
      "9. TB_b3 (0.002577)\n",
      "10. TB_e0 (0.002549)\n",
      "\n",
      "[Not important Features]\n",
      "1. VariantCopyInd (0.000000)\n",
      "2. GlobalGetAtomNameA (0.000000)\n",
      "3. GetWindowTextLengthA (0.000000)\n",
      "4. __vbaAryMove (0.000000)\n",
      "5. wvsprintfA (0.000000)\n",
      "6. PeekMessageW (0.000000)\n",
      "7. __vbaStrVarCopy (0.000000)\n",
      "8. __vbaRecAnsiToUni (0.000000)\n",
      "9. CharUpperA (0.000000)\n",
      "10. GetEnhMetaFileHeader (0.000000)\n"
     ]
    }
   ],
   "source": [
    "# Print Result\n",
    "print(\"[OOB accuracy]\")\n",
    "print(rf_model.oob_score_)\n",
    "print(\"\")\n",
    "\n",
    "indices = np.argsort (rf_model.feature_importances_)[::-1]\n",
    "num = len(indices) - 1\n",
    "\n",
    "print(\"[Important Features]\")\n",
    "for i in range(10):\n",
    "    print (\"%d. %s (%f)\" % (i + 1, features[indices[i]-1], rf_model.feature_importances_[indices[i]]))\n",
    "\n",
    "print(\"\")\n",
    "print(\"[Not important Features]\")\n",
    "\n",
    "for i in range(10):\n",
    "    print (\"%d. %s (%f)\" % (i + 1, features[indices[num-i]-1], rf_model.feature_importances_[indices[num-i]]))"
   ]
  },
  {
   "cell_type": "code",
   "execution_count": null,
   "metadata": {
    "collapsed": true
   },
   "outputs": [],
   "source": []
  }
 ],
 "metadata": {
  "kernelspec": {
   "display_name": "Python 3",
   "language": "python",
   "name": "python3"
  },
  "language_info": {
   "codemirror_mode": {
    "name": "ipython",
    "version": 3
   },
   "file_extension": ".py",
   "mimetype": "text/x-python",
   "name": "python",
   "nbconvert_exporter": "python",
   "pygments_lexer": "ipython3",
   "version": "3.6.0"
  }
 },
 "nbformat": 4,
 "nbformat_minor": 2
}
